{
 "cells": [
  {
   "cell_type": "code",
   "execution_count": 1,
   "metadata": {},
   "outputs": [
    {
     "name": "stderr",
     "output_type": "stream",
     "text": [
      "USER_AGENT environment variable not set, consider setting it to identify your requests.\n"
     ]
    }
   ],
   "source": [
    "import os\n",
    "import bs4\n",
    "from langchain_community.document_loaders import WebBaseLoader\n",
    "from langchain.prompts import ChatPromptTemplate\n",
    "from langchain_core.output_parsers import StrOutputParser\n",
    "from langchain_openai import ChatOpenAI\n",
    "from langchain.text_splitter import RecursiveCharacterTextSplitter\n",
    "from langchain_openai import OpenAIEmbeddings\n",
    "from langchain_community.vectorstores import Chroma\n",
    "from langchain import hub\n",
    "from langchain_core.prompts import ChatPromptTemplate\n",
    "from langchain_core.runnables import RunnablePassthrough, RunnableLambda\n",
    "from dotenv import load_dotenv"
   ]
  },
  {
   "cell_type": "markdown",
   "metadata": {},
   "source": [
    "# Database part"
   ]
  },
  {
   "cell_type": "code",
   "execution_count": 15,
   "metadata": {},
   "outputs": [],
   "source": [
    "loader = WebBaseLoader(\n",
    "    web_paths=(\"https://cheetah.org/learn/about-cheetahs/\",),\n",
    "#     bs_kwargs=dict(\n",
    "#         parse_only=bs4.SoupStrainer(\n",
    "#             class_=(\"post-content\", \"post-title\", \"post-header\")\n",
    "#         )\n",
    "#    ),\n",
    ")\n",
    "blog_docs = loader.load()"
   ]
  },
  {
   "cell_type": "code",
   "execution_count": 16,
   "metadata": {},
   "outputs": [
    {
     "data": {
      "text/plain": [
       "[Document(metadata={'source': 'https://cheetah.org/learn/about-cheetahs/', 'title': 'About Cheetahs • Cheetah Facts • Cheetah Conservation Fund •', 'description': \"Learn about cheetahs from Cheetah Conservation Fund. CCF has the world's leading experts on cheetahs including our founder Dr. Laurie Marker.\", 'language': 'en'}, page_content=\"\\n\\n\\n\\n\\n\\n\\n\\n\\nAbout Cheetahs • Cheetah Facts • Cheetah Conservation Fund •\\n\\n\\n\\n\\n\\n\\n\\n\\n\\n\\n\\n\\n\\n\\n\\n\\n\\n\\n\\n\\n\\n\\n\\n\\n\\n\\n\\n\\n\\n\\n\\n\\n\\n\\n\\n\\n\\n\\n\\n\\n\\n\\n\\n\\n\\n\\n\\n\\n\\n\\n\\n\\n\\n\\n\\n\\n\\n\\n\\n\\n\\n\\n\\n\\n\\n\\n\\n\\n\\n\\n\\nSkip Header\\n\\n\\n\\n\\n\\n \\n\\n\\n\\n\\n\\n\\n\\n\\n\\n\\n\\n\\n\\n\\n\\n\\n\\n\\n\\nDonate\\n\\n\\n\\n\\n\\n\\n\\n\\n\\n\\n\\n\\n\\n\\n\\n\\n\\n\\n\\n \\n\\n\\n\\n\\nSearch\\n\\n\\n\\n                Search\\n            \\n\\n\\n\\n \\n\\n\\nAbout UsWhat We DoConservationResearchEducationInternational Cheetah DayWho We AreCCF’s MissionDr. Laurie MarkerOur Field Conservation CentresStaffGovernanceCCF GlobalGet InvolvedWays to GiveCCF EventsVolunteerVisit CCFCorporate GivingLearnResource LibraryAbout CheetahsHuman Wildlife ConflictIllegal Wildlife TradeHabitat LossCCF VideosCCF BooksNewsCCF BlogCheetah StridesPress ReleasesDonateShop\\n\\n\\n\\n\\n\\n\\n\\n\\n\\n\\n\\n\\n\\n\\n\\n\\n\\n\\n\\nLearn\\n\\n\\n\\n\\n\\n\\n\\n\\n\\n\\n\\n\\n\\nLearn\\n\\n\\nResource LibraryAbout CheetahsHuman Wildlife ConflictIllegal Wildlife TradeHabitat LossCCF VideosCCF Books\\n\\n\\n\\n\\n\\n\\n\\n\\n\\nKeep up with the cheetahs\\nJoin our mailing list\\n\\n\\n\\n\\n\\n\\n\\n\\n\\n\\nDonate\\n\\n\\n\\nSponsor\\n\\n\\n\\n\\n\\n\\n\\n\\n\\n\\n\\n\\n\\n                            About Cheetahs                        \\n\\n\\nThe Cheetah’s Wild Life\\nThere are three stages in the life cycle of the cheetah: cub (birth to 18 months), adolescence (18 to 24 months) and adult life (24 months and on).\\nThe gestation (pregnancy) period for the cheetah is 93 days, and litters range in size from one or two up to six cubs (the occasional litter of eight cubs has been recorded, but it is rare). Cub mortality is higher in protected areas like national parks and wildlife reserves where proximity to large predators is greater than in non-protected areas. In such areas, the cheetah cub mortality can be as high as 90%.\\n\\n\\n\\n\\n\\n\\n\\n\\nAdult life for a cheetah in the wild is difficult. Cheetahs in the wild (both male and female combined) have an average age span of 10 – 12 years. The average lifespan of an adult male in the wild skews lower (8 years), due in part to territorial conflicts with competing groups of males. Adult mortality is one of the most significant limiting factors for the growth and survival of the wild cheetah population.\\nThreats to the Cheetah\\nCaptive Population Info\\n\\n\\n\\n\\n\\n\\n\\n\\n\\nCheetah cubs\\n\\n\\n\\n\\n\\n\\n\\n\\n\\nAdolescent cheetahs\\n\\n\\n\\n\\n\\n\\n\\n\\nPhysical Characteristics of Adult Cheetahs\\nAdult cheetahs’ weight averages between 75 and 125 pounds. They can measure from 40 to 60 inches in length, measured from the head to the hind quarters. The tail can add a further 24 to 32 inches bringing the total overall length up to 7.5 feet. On average, cheetahs stand 28 to 36 inches tall at the shoulder.\\nThe cheetah is a sexually dimorphic species though it is difficult to identify cheetahs’ sex by appearance alone. Male cheetahs are slightly bigger than females and they have larger heads, but they do not display the same degree of physical difference between the sexes of other big cat species like lions.\\nCheetahs have a thin frame with a narrow waist and deep chest. They have large nostrils that allow for increased oxygen intake. Cheetahs have a large lungs and hearts connected to a circulatory system with strong arteries and adrenals that work in tandem to circulate oxygen through their blood very efficiently.\\nWith its long legs and very slender body, the cheetah is quite different from all other cats and is the only member of its genus, Acinonyx. The cheetah’s unique morphology and physiology allow it to attain the extreme speeds for which it’s famous.\\nMarkings\\nThe cheetah’s undercoat ranges in color from light tan to a deep gold and is marked by solid black spots. These spots are not open like the rosettes found on a leopard or jaguar’s coat, which is one way to quickly identify the cheetah.\\nDistinctive black tear stripes run from the eyes to the mouth. The stripes are thought to protect the eyes from the sun’s glare. It is believed that they have the same function as a rifle scope, helping cheetahs focus on their prey at a long distance range by minimizing the glare of the sun.\\nCheetah tails end with a bushy tuft encircled by five or six dark rings. These markings provide them with excellent camouflage while hunting and make them more difficult for other predators to detect. The tail is also thought to be a signaling device, helping young cubs follow their mothers in tall grass. The tip of the tail varies in color from white to black among individuals.\\n\\n\\n\\n\\n\\n\\n\\n\\n\\n\\n\\n\\n\\n\\n\\n\\n\\n\\n\\n\\n\\n\\n\\n\\n\\n\\n\\n\\n\\n\\n\\n\\n\\n\\n\\n\\n\\n\\n\\n\\n\\n\\n\\n\\n\\n\\n\\n\\n\\n\\n\\n\\nBuilt for Speed\\nThe cheetah is the world’s fastest land animal and Africa’s most endangered big cat. Uniquely adapted for speed, the cheetah is capable of reaching speeds greater than 110 kilometers per hour in just over three seconds. At top speed, their stride is seven meters long. The cheetah’s unique body structure: flexible spine, semi-retractable claws, long legs and tail allow it to achieve the unbelievable top speed of 110 km/hr (70 mph). The cheetah’s body is narrow and lightweight with long slender limbs. Specialized muscles allow for a greater swing to the limbs increasing acceleration.\\nCheetahs’ foot pads are hard and less rounded than the other cats. The pads function like tire treads providing them with increased traction in fast, sharp turns. The short blunt claws, which are considered semi-retractable, are closer to that of a dog than of other cats. The claws work like the cleats of a track shoe to grip the ground for traction when running to help increase speed.\\n\\n\\n\\n\\n\\n\\n\\nCheetah running at CCF's Centre in Namibia\\n\\n\\n\\n\\nFast and Flexible\\nThe flexibility of the cheetah’s spine is unique. The cheetah’s long muscular tail works like a rudder, stabilizing, and acting as a counterbalance to its body weight. Swinging the tail back and forth continually adjusting to the movement of prey allows for sudden sharp turns during high speed chases. The cheetah’s shoulder blade does not attach to the collar bone, thus allowing the shoulders to move freely. \\nThe hips pivot to allow the rear legs to stretch far apart when the body is fully extended. The hip and shoulder extension allows for a large range of extension during running, thus making both its exceptional stride length. The length between their steps is six to seven meters (21 ft) and four strides are completed per second. There are two times in one stride when the cheetah’s body is completely off the ground: once when all four legs are extended and once when all four legs are bunched under the body.\\n\\n\\nCheetah Cubs\\nAt birth, the cubs weigh 8.5 to 15 ounces and are blind and helpless. Their mother will groom them patiently, purring quietly and providing them warmth and security. After a day or so, the mother will leave the cubs to hunt for herself, so she can continue to care for the cubs. This is the most vulnerable time for the cubs, as they are left unprotected. They will live in a secluded nest until they are about six to eight weeks old, being regularly moved by their mother from nest to nest to avoid detection by predators. The mother will care for her cubs on her own for the next year and a half.\\nAt about six weeks of age\\nThe cubs begin following their mother on her daily travels as she is looking for prey. During these first few months she cannot move far or fast and cub mortality is highest. Fewer than one in 10 cubs will survive during this time, as they perish from predation by other large predators such as lions and hyenas, or from injuries. This is the time when life skills are taught.\\nCheetah cubs have a thick silvery-grey mantle down their back. The mantle helps camouflage the cubs by imitating the look of an aggressive animal called a honey badger. This mimicry may help deter predators such as lions, hyenas, and eagles from attempting to kill them. Cubs lose their mantle at about three months of age.\\nBetween four to six months of age\\nCheetah cubs are very active and playful. Trees provide good observation points and allow for development of skills in balancing. The cubs’ semi non-retractable claws are sharper at this age and help them grip the tall ‘playtrees’ they climb with their siblings. Learning to hunt is the most critical survival skill that the cubs will develop. At one year of age, cheetah cubs participate in hunts with their mother.\\nAt about 18 months of age\\nThe mother and cubs will finally separate. Although not fully adept at hunting on their own, independent male and female cubs will stick together for a few more months to master their hunting skills. When the adolescent females begin cycling, dominant males will court them and drive their brothers away.\\n\\n\\n\\n\\n\\n\\n\\n\\n\\nLearning to hunt begins early\\n\\n\\n\\n\\n\\n\\n\\n\\n\\nLearning to hunt through play continues into adolescence, cheetahs stay with their mother for about 18 months.\\n\\n\\n\\n\\n\\n\\n\\n\\nMale Coalitions\\nAs the female siblings become sexually mature they will split from the group to lead a largely independent life. Male siblings remain together for the rest of their lives, forming a group known as a coalition. Coalitions increase hunting success and act as a defense against other predators.\\nWhen the split from sisters occurs, the males will roam until they can find and defend a territory. This process can take a few years and males may travel hundreds of miles, being moved out of one area to another, pushed on by more experienced male coalitions. Eventually, the group will find a place where they can settle. This will become the coalition’s territory and could span 15 to 30 square miles.\\nCheetahs that become orphaned at a young age, and are brought into a rehabilitation situation, can be paired with non-related individuals to form a coalition. When these cheetahs are released back into the wild, the created coalitions will often remain intact throughout the life of the individuals.\\n\\n\\n\\n\\n\\n\\n\\nCoalition of male cheetahs\\n\\n\\n\\n\\nMating\\nFemales lead solitary lives unless they are accompanied by their cubs. Unlike male cheetahs that prefer to live in set territories with their coalition, females travel within “home ranges” that overlap multiple male groups’ territories. Female cheetah home ranges depend on the distribution of prey. If prey is roaming and widespread, females will have larger ranges.\\nEstrus in female cheetahs is not predictable or regular. This is one of the reasons why it is difficult to breed cheetahs in captivity. Mating receptivity depends on environmental factors that, researchers have found, are triggered by the proximity of males and their scent markings. Estrus lasts up to 14 days and females will mate with multiple males during this time period. Male cheetahs that encounter a female cheetah in estrus will stay with her and mate up to three days and at intervals throughout the day. When it comes to mating, there are no dominant males within the coalition that claim exclusive access to females. All males within a coalition will mate.\\n\\n\\nGenetic Diversity\\nDuring the last Ice Age the world’s population of cheetahs plummeted to just a handful of individuals. This event caused an extreme reduction of the cheetah’s genetic diversity, resulting in the physical homogeneity of the species’ current population. Cheetahs are so genetically similar that in experiments, reciprocal skin grafts from unrelated cheetahs were accepted by the other’s immune system due to the animals having similar major histocompatibility complex (MHC) genotypes.\\nResearchers have discovered that suitable levels of genetic diversity are vital to any population’s ability to adapt and overcome environmental changes and unexpected disasters. Unsustainable human expansion and irresponsible consumption can cause pressure on ecosystems worldwide. Population research has shown that when habitat is destroyed and populations become fragmented and isolated, the rate of inbreeding increases and the genetic diversity lowers.\\nPhysiological impairments such as: poor sperm quality, focal palatine erosion, susceptibility to infectious diseases, and kinked tails are a result of low genetic diversity within both the wild and captive cheetah population.\\n\\n\\n\\n\\n\\n\\n\\n\\n\\nCheetah sperm under a microscope\\n\\n\\n\\n\\n\\n\\n\\n\\n\\nKinked tail\\n\\n\\n\\n\\n\\n\\n\\n\\nHunting\\nCheetahs are visual hunters. Unlike other big cats cheetahs are diurnal, meaning they hunt in early morning and late afternoon. Cheetahs climb ‘playtrees’ or termite mounds to get an optimal vantage point for spotting prey against the horizon. The hunt has several components. It includes prey detection, stalking, the chase, tripping (or prey capture), and killing by means of a suffocation bite to the throat.\\n\\n\\nDiet and Eating\\nThe prey species on which the cheetah depends have evolved speed and avoidance techniques that can keep them just out of reach. Cheetahs prey includes: gazelles (especially Thomson’s gazelles), impalas and other small to medium-sized antelopes, hares, birds, and rodents. Cheetahs will also prey on the calves of larger herd animals.\\nCheetahs generally prefer to prey upon wild species and avoid hunting domestic livestock. The exception happening in sick, injured and either old or young and inexperienced cheetahs. Generally, the livestock animals that are lost to predation by cheetahs are also sick, injured and old/young. Keeping livestock in kraals and utilizing non-lethal means of protection can dramatically reduce livestock predation.\\n\\n\\n\\n\\n\\n\\n\\n\\n\\nStalking\\n\\n\\n\\n\\n\\n\\n\\n\\n\\nSuccessful hunt\\n\\n\\n\\n\\n\\n\\n\\n\\nActivity\\nWhile cheetahs can reach remarkable speeds, they cannot sustain a high speed chase for very long. They must catch their prey in 30 seconds or less as they cannot maintain maximum speeds for much longer. Cheetahs spend most of their time sleeping and they are minimally active during the hottest portions of the day. They prefer shady spots and will sleep under the protection of large shady trees. Cheetahs do not hunt at night, they are most active during the morning and evening hours.\\n\\n\\nRole in the Ecosystem\\nThe cheetah serves a special role in its ecosystem. Cheetahs are one of the most successful hunters on the savanna but their kills are very often stolen by larger carnivores or predators that hunt in groups. Predators play an important role in any ecosystem. They keep prey species healthy by killing the weak and old individuals. They also act as a population check which helps plants-life by preventing overgrazing. Without predators like the cheetah, the savanna ecosystem in Namibia would be very different and the current ecological trend toward desertification would be accelerated.\\n\\n\\nVocalizations\\nUnlike other “big cats”, a classification that includes: lions, tigers, leopards, and jaguars) cheetahs don’t roar. They growl when facing danger, and they vocalize with sounds more equivalent to a high-pitched chirp or bubble and they bark when communicating with each other. The cheetah can also purr while both inhaling and exhaling.\\nPurring\\n\\nhttps://cheetah.org/wp-content/uploads/2023/09/04-purr.wav\\nMoan/Spit\\nhttps://cheetah.org/wp-content/uploads/2023/09/03-moan-spitting.wav\\n\\n\\n\\n\\n\\n\\n\\nHissing and threat display\\n\\n\\n\\n\\nChirping\\nhttps://cheetah.org/wp-content/uploads/2023/09/shachirp3.wav\\nGrowling\\nhttps://cheetah.org/wp-content/uploads/2023/09/cheetahgrowl.wav\\nGrowl/Chirp\\nhttps://cheetah.org/wp-content/uploads/2023/09/02-growls-chirps.wav\\n\\n\\nSpecies Then and Now\\nRelatives of the modern cheetah had worldwide distribution until about 20,000 years ago, when the world’s environment underwent dramatic changes during the Great Ice Age. Only a handful of individuals remained.\\nThe population of cheetahs rebounded. Up until ~10,000 years ago their range spread across the entire African continent (minus the Congo Basin and the Sahara Desert) and into Asia from the Arabian Peninsula to eastern India. Today, cheetahs are found in only 9% of their historic range and are functionally extinct. Once found throughout Asia and Africa, today there are fewer than 7,100 adult and adolescent cheetahs in the wild.\\nProtected Status\\nCurrently, cheetahs are listed as Vulnerable on the IUCN Red List. In Namibia, they are a protected species. Under the Endangered Species Act in the United States, they are considered Endangered. The Convention on International Trade in Endangered Species (CITES) lists them as an Appendix 1 species. Most wild cheetahs exist in fragmented populations in pockets of Africa, occupying a mere 9 percent of their historic range. In Iran, fewer than 50 Asiatic cheetahs (a sub-species) remain.\\nThe largest single population of cheetahs occupies a six-country polygon that spans Namibia, Botswana, South Africa, Angola, Mozambique and Zambia. Namibia has the largest number of individuals of any country, earning it the nickname, “The Cheetah Capital of the World.” More than 75 percent of remaining wild cheetahs live on rural farmlands alongside human communities.\\n\\n\\n\\n\\n\\n\\n\\nFossil of Acinonyx pardinensis (giant cheetah), Museum Histoire Naturelle, Paris. Extinct ancient cheetah species closely related to the modern cheetah, was as tall as an African lion at the shoulder. The giant cheetah lived in Europe and was roughly twice the size of modern cheetahs.\\n\\n\\n\\n\\nCheetahs in Captivity\\nIn captivity cheetahs can live from 17 – 20 years. In countries across Africa, like Namibia, it is illegal to capture and take live cheetahs from the wild. Also in the majority of African countries, like Namibia, it is illegal to keep cheetahs under private ownership or as pets. Cheetah Conservation Fund and other Africa-based NGOs keep populations of injured or orphaned animals in captivity as part of rehabilitation and rewilding efforts.\\nSuitability for release is dependent on: \\n\\nthe age of the individuals when they became orphaned\\nthe degree to which human intervention was required for their survival\\n\\nVery young and extremely ill animals will have greater degrees of contact with human caretakers. Survival in the wild depends on an aversion to humans and avoidance of human populations. Cheetahs that require hand-rearing and prolonged medical treatment do not possess an adequate fear of humans for life in the wild, especially when their territories are increasingly likely to be shared by human settlements.\\nZoos and Conservation\\nAccredited zoos around the world participate in captive breeding programs that track the genetic suitability for mating pairs. Accreditation criteria differs between accrediting organizations. Accreditation in most cases requires that zoos holding captive cheetahs must support conservation work. Cheetah Conservation Fund lists the zoos that fund our conservation work here. \\nCheetah Conservation Fund manages the International Cheetah Studbook for captive cheetah populations. \\n\\n\\n\\n\\n\\n\\n\\nDr. Marker and Catherine Hilker at the Cincinnati Zoo's Cheetah Breeding Facility\\n\\n\\n\\n\\nSpecialized Conservation Needs\\nAs with all other species fighting extinction, the problem facing the cheetah is complex and multifaceted. However, most of the reasons for the cheetah’s endangerment can be grouped into three overarching categories:\\n\\nhuman-wildlife conflict,\\nloss of habitat and loss of prey,\\npoaching and illegal wildlife trafficking, with cubs being taken from the Horn of Africa and smuggled into the exotic pet trade, primarily in the Gulf States.\\n\\n\\n\\nHuman-Wildlife Conflict\\nUnlike other large cats and pack predators, cheetahs do not do well in wildlife reserves. These areas normally contain high densities of other larger predators like the lion, leopard, and hyena. Predators such as these, compete with cheetahs for prey and will even kill cheetahs given the opportunity. In such areas, the cheetah cub mortality can be as high as 90%. Therefore, roughly 90% of cheetahs in Africa live outside of protected lands on private farmlands and thus often come into conflict with people.\\nWhen a predator threatens a farmer’s livestock, they also threaten the farmer’s livelihood. Farmers act quickly to protect their resources, often trapping or shooting the cheetah. Because cheetahs hunt more during the day, they are seen more often than the nocturnal predators which contributes to a higher rate of persecution on the cheetah.\\n\\n\\n\\n\\n\\n\\n\\n\\n\\nHuman-wildlife conflict\\n\\nLearn more about CCF’s efforts to mitigate human-wildlife conflict\\n\\nHuman/wildlife conflict\\n\\n\\n\\n\\n\\n\\n\\n\\nHabitat Loss\\nCheetahs require vast expanses of land with suitable prey, water, and cover sources to survive. As wild lands are destroyed and fragmented by the human expansion occurring all over the world, the cheetah’s available habitat is also destroyed. Available habitat is fragmented, and degraded reducing the number of animals an area can support. Numerous landscapes across Africa that could once support thousands of cheetahs now struggle to support just a handful.\\n\\n\\n\\n\\n\\n\\n\\n\\n\\nHabitat Loss\\n\\nLearn more about CCF’s efforts to prevent and mitigate habitat loss.\\n\\nHabitat Loss\\n\\n\\n\\n\\n\\n\\n\\n\\nIllegal Wildlife Trade\\nIn many parts of the world there are strong cultural associations to keeping cheetahs as companions. There is a long history of the practice and it is commonly seen in ancient art.\\nIn contemporary times, cheetahs are still viewed as status symbols. Though cheetah ownership and exotic pet ownership has been outlawed in many countries, there is still a high demand for cheetahs as pets. Cubs are illegally captured from the wild and only one in six survives the journey to a potential buyer.\\n\\n\\n\\n\\n\\n\\n\\n\\n\\nIllegal Wildlife Trade\\n\\nLearn more about CCF’s efforts to end the illegal trade in cheetahs across the species range.\\n\\nIllegal pet trade\\n\\n\\n\\n\\n\\n\\n\\n\\n\\n\\nLearn more with CCF's Books\\n\\n\\n\\n\\n\\n\\n\\n\\nShare with friends\\n\\n\\n\\n\\n\\n\\n\\n\\n\\n\\n\\n\\n\\n\\n\\n\\n\\n\\n\\n\\n\\n\\n\\n\\n\\n\\n\\n\\n\\n\\n\\n\\n\\n\\n\\n\\n\\n\\n\\n\\n\\n\\n                            Resource Library\\n\\n\\n\\n\\n\\n\\n\\n\\n\\n\\n\\n\\n\\n                            Volunteer\\n\\n\\n\\n\\n\\n\\n\\n\\n\\n\\n\\n\\n\\n                            Visit\\n\\n\\n\\n\\n\\n\\n\\n\\n\\n\\nWhat We DoConservationResearchEducationInternational Cheetah DayWho We AreCCF’s MissionDr. Laurie MarkerOur Field Conservation CentresStaffGovernanceCCF GlobalGet InvolvedWays to GiveCCF EventsVolunteerVisit CCFContact CCFLearnResource LibraryAbout CheetahsHuman Wildlife ConflictIllegal Wildlife TradeHabitat LossCCF VideosNewsCCF BlogCheetah StridesPress Releases\\n\\n\\n\\n\\n\\n\\n\\n\\n\\n\\n\\n\\n\\n\\n\\n\\n\\n\\nCheetah Conservation Fund\\n\\nOur Research and Education Centre is located in Otjiwarongo, Namibia. We encourage visitors to see our facilities in person.\\nCome Join Us!\\n\\n\\n\\n\\nWhere We Work\\n\\nCCF is an international non-profit organization with fundraising operations located in: Australia, Canada, Italy, United Kingdom, and United States, working in cooperation with staff and partners around the world.\\nCCF Global\\n\\n\\n\\n\\nSupport CCF\\n\\nYou can help save the cheetah from extinction. Support our science-based, results-driven conservation initiatives. Together, we can save the cheetah.\\n\\nDonate\\nSponsor a Cheetah\\n\\n\\n\\n\\n\\n\\n\\n\\n\\nPhotography on our website is provided by generous supporters like Suzi Eszterhas, John and Angela Scott, Jennifer Leigh Warner, Craig Taylor, Vicky Morey, Andrew Harrington, Bobby Bradley, and many others.\\n\\n\\n\\n\\n\\n\\n\\n\\n\\n\\n\\n\\nEmail Sign-Up\\n\\n\\n\\n\\n\\n\\n\\n\\n\\n\\n                                        Facebook                                    \\n\\n\\n\\n\\n\\n\\n                                        Twitter                                    \\n\\n\\n\\n\\n\\n\\n                                        Instagram                                    \\n\\n\\n\\n\\n\\n\\n                                        Youtube                                    \\n\\n\\n\\n\\n\\n\\n                                        TikTok                                    \\n\\n\\n\\n\\n\\n\\n                                        Pinterest                                    \\n\\n\\n\\n\\n\\n\\n\\n\\n\\n\\n\\n\\n\\n\\n\\n\\n                        © 2024 Cheetah Conservation Fund\\n                    \\n\\nPrivacy Policy\\n\\n\\n\\n\\n\\n\\n\\n\\n\\n\\n\\n\\n\\n\\n\\n\\n\\n\\n\\n\\n\\n\\n\\n\\n\\n\")]"
      ]
     },
     "execution_count": 16,
     "metadata": {},
     "output_type": "execute_result"
    }
   ],
   "source": [
    "blog_docs"
   ]
  },
  {
   "cell_type": "code",
   "execution_count": 17,
   "metadata": {},
   "outputs": [],
   "source": [
    "# Spliting \n",
    "from langchain.text_splitter import RecursiveCharacterTextSplitter\n",
    "text_splitter = RecursiveCharacterTextSplitter.from_tiktoken_encoder(\n",
    "    chunk_size=50,\n",
    "    chunk_overlap=10)\n",
    "\n",
    "# Make splits\n",
    "splits = text_splitter.split_documents(blog_docs)\n",
    "\n",
    "# Index\n",
    "from langchain_huggingface import HuggingFaceEmbeddings\n",
    "embeddings = HuggingFaceEmbeddings(model_name=\"sentence-transformers/all-mpnet-base-v2\")\n",
    "from langchain_community.vectorstores import Chroma\n",
    "vectorstore = Chroma.from_documents(documents=splits,\n",
    "                                    embedding=embeddings)"
   ]
  },
  {
   "cell_type": "markdown",
   "metadata": {},
   "source": [
    "create a retriever"
   ]
  },
  {
   "cell_type": "code",
   "execution_count": 18,
   "metadata": {},
   "outputs": [],
   "source": [
    "retriever = vectorstore.as_retriever()"
   ]
  },
  {
   "cell_type": "markdown",
   "metadata": {},
   "source": [
    "# HyDE"
   ]
  },
  {
   "cell_type": "code",
   "execution_count": 19,
   "metadata": {},
   "outputs": [
    {
     "data": {
      "text/plain": [
       "\"Cheetahs (Acinonyx jubatus) are known for their remarkable agility and hunting prowess, which are largely attributed to their exceptional flexibility. This flexibility is a result of several adaptations that have evolved in cheetahs over time to meet the demands of their specialized hunting niche.\\n\\nFirstly, cheetahs have a highly flexible spine, which allows them to make quick and precise movements when hunting. The spine of a cheetah is made up of 24 vertebrae, which is more than that of other big cats. This increased number of vertebrae provides cheetahs with a greater range of motion in their backs, enabling them to make sharp turns and adjust their body position rapidly while in pursuit of prey.\\n\\nSecondly, cheetahs have a unique shoulder and hip structure that contributes to their flexibility. The shoulder blades of a cheetah are not attached to the sternum, allowing for greater mobility and range of motion in the forelimbs. Similarly, the cheetah's pelvis is also flexible, enabling the hindlimbs to extend further back, increasing stride length and speed.\\n\\nLastly, cheetahs have a highly flexible digestive system that allows them to consume large amounts of food quickly. After a successful hunt, cheetahs can consume up to 14% of their body weight in a single meal. This requires a flexible digestive system that can handle large volumes of food at once.\\n\\nIn conclusion, cheetahs are highly flexible animals due to several adaptations, including a flexible spine, unique shoulder and hip structure, and a flexible digestive system. These adaptations enable cheetahs to excel in their hunting niche, making them one of the most agile and successful predators in the animal kingdom.\""
      ]
     },
     "execution_count": 19,
     "metadata": {},
     "output_type": "execute_result"
    }
   ],
   "source": [
    "template = \"\"\"Please write a scientific paper passage to answer the question\n",
    "Question: {question}\n",
    "Passage:\"\"\"\n",
    "prompt_hyde = ChatPromptTemplate.from_template(template)\n",
    "\n",
    "from langchain_core.output_parsers import StrOutputParser\n",
    "from langchain_groq import ChatGroq\n",
    "\n",
    "generate_docs_for_retrieval = (\n",
    "    prompt_hyde | ChatGroq(temperature=0,api_key=os.getenv('groq_api_key')) | StrOutputParser() \n",
    ")\n",
    "\n",
    "# Run\n",
    "question = \"Why cheetahs are flexible?\"\n",
    "generate_docs_for_retrieval.invoke({\"question\":question})"
   ]
  },
  {
   "cell_type": "code",
   "execution_count": 20,
   "metadata": {},
   "outputs": [
    {
     "data": {
      "text/plain": [
       "[Document(metadata={'description': \"Learn about cheetahs from Cheetah Conservation Fund. CCF has the world's leading experts on cheetahs including our founder Dr. Laurie Marker.\", 'language': 'en', 'source': 'https://cheetah.org/learn/about-cheetahs/', 'title': 'About Cheetahs • Cheetah Facts • Cheetah Conservation Fund •'}, page_content='The flexibility of the cheetah’s spine is unique. The cheetah’s long muscular tail works like a rudder, stabilizing, and acting as a counterbalance to its body weight. Swinging the tail back'),\n",
       " Document(metadata={'description': \"Learn about cheetahs from Cheetah Conservation Fund. CCF has the world's leading experts on cheetahs including our founder Dr. Laurie Marker.\", 'language': 'en', 'source': 'https://cheetah.org/learn/about-cheetahs/', 'title': 'About Cheetahs • Cheetah Facts • Cheetah Conservation Fund •'}, page_content='With its long legs and very slender body, the cheetah is quite different from all other cats and is the only member of its genus, Acinonyx. The cheetah’s unique morphology and physiology allow it to attain'),\n",
       " Document(metadata={'description': \"Learn about cheetahs from Cheetah Conservation Fund. CCF has the world's leading experts on cheetahs including our founder Dr. Laurie Marker.\", 'language': 'en', 'source': 'https://cheetah.org/learn/about-cheetahs/', 'title': 'About Cheetahs • Cheetah Facts • Cheetah Conservation Fund •'}, page_content='claws, long legs and tail allow it to achieve the unbelievable top speed of 110 km/hr (70 mph). The cheetah’s body is narrow and lightweight with long slender limbs. Specialized muscles allow for a greater swing to the'),\n",
       " Document(metadata={'description': \"Learn about cheetahs from Cheetah Conservation Fund. CCF has the world's leading experts on cheetahs including our founder Dr. Laurie Marker.\", 'language': 'en', 'source': 'https://cheetah.org/learn/about-cheetahs/', 'title': 'About Cheetahs • Cheetah Facts • Cheetah Conservation Fund •'}, page_content='to its body weight. Swinging the tail back and forth continually adjusting to the movement of prey allows for sudden sharp turns during high speed chases. The cheetah’s shoulder blade does not attach to the collar bone, thus allowing the')]"
      ]
     },
     "execution_count": 20,
     "metadata": {},
     "output_type": "execute_result"
    }
   ],
   "source": [
    "\n",
    "# Retrieve\n",
    "retrieval_chain = generate_docs_for_retrieval | retriever \n",
    "retireved_docs = retrieval_chain.invoke({\"question\":question})\n",
    "retireved_docs"
   ]
  },
  {
   "cell_type": "code",
   "execution_count": 21,
   "metadata": {},
   "outputs": [
    {
     "data": {
      "text/plain": [
       "\"Cheetahs are flexible due to the flexibility of their spine, which is unique among big cats. This flexibility allows them to achieve high speeds and make sudden sharp turns during chases, thanks to the ability to swing their long muscular tail back and forth, acting as a rudder and counterbalance to their body weight. Additionally, the cheetah's shoulder blade does not attach to the collar bone, providing even more mobility and contributing to their exceptional agility.\""
      ]
     },
     "execution_count": 21,
     "metadata": {},
     "output_type": "execute_result"
    }
   ],
   "source": [
    "\n",
    "# RAG\n",
    "template = \"\"\"Answer the following question based on this context:\n",
    "\n",
    "{context}\n",
    "\n",
    "Question: {question}\n",
    "\"\"\"\n",
    "\n",
    "prompt = ChatPromptTemplate.from_template(template)\n",
    "\n",
    "final_rag_chain = (\n",
    "    prompt\n",
    "    | ChatGroq(temperature=0,api_key=os.getenv('groq_api_key'))\n",
    "    | StrOutputParser()\n",
    ")\n",
    "\n",
    "final_rag_chain.invoke({\"context\":retireved_docs,\"question\":question})"
   ]
  },
  {
   "cell_type": "code",
   "execution_count": null,
   "metadata": {},
   "outputs": [],
   "source": []
  }
 ],
 "metadata": {
  "kernelspec": {
   "display_name": "Python 3",
   "language": "python",
   "name": "python3"
  },
  "language_info": {
   "codemirror_mode": {
    "name": "ipython",
    "version": 3
   },
   "file_extension": ".py",
   "mimetype": "text/x-python",
   "name": "python",
   "nbconvert_exporter": "python",
   "pygments_lexer": "ipython3",
   "version": "3.11.5"
  }
 },
 "nbformat": 4,
 "nbformat_minor": 2
}
